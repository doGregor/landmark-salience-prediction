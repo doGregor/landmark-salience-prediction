{
 "cells": [
  {
   "cell_type": "code",
   "execution_count": 1,
   "metadata": {},
   "outputs": [],
   "source": [
    "import os\n",
    "import tensorflow as tf\n",
    "import numpy as np\n",
    "from scipy import stats\n",
    "from image_data_module import TrainTestData\n",
    "from salience_prediction_module import SaliencePrediction"
   ]
  },
  {
   "cell_type": "code",
   "execution_count": 2,
   "metadata": {},
   "outputs": [],
   "source": [
    "##### REGRESSION TEST #####"
   ]
  },
  {
   "cell_type": "code",
   "execution_count": 3,
   "metadata": {},
   "outputs": [],
   "source": [
    "data_class = TrainTestData()\n",
    "(X_train, Y_train), (X_test, Y_test) = data_class.get_train_test_salience()"
   ]
  },
  {
   "cell_type": "code",
   "execution_count": 4,
   "metadata": {},
   "outputs": [
    {
     "name": "stdout",
     "output_type": "stream",
     "text": [
      "Train: (886, 298, 224, 3) (886,) Test: (380, 298, 224, 3) (380,)\n"
     ]
    }
   ],
   "source": [
    "print(\"Train:\", X_train.shape, Y_train.shape, \"Test:\", X_test.shape, Y_test.shape)"
   ]
  },
  {
   "cell_type": "code",
   "execution_count": 5,
   "metadata": {},
   "outputs": [],
   "source": [
    "prediction_module = SaliencePrediction()\n",
    "(X_train, Y_train), (X_test, Y_test) = prediction_module.scale_data(X_train, Y_train, X_test, Y_test, labels='regression')"
   ]
  },
  {
   "cell_type": "code",
   "execution_count": 6,
   "metadata": {},
   "outputs": [
    {
     "name": "stdout",
     "output_type": "stream",
     "text": [
      "Train: (886, 298, 224, 3) (886,) Test: (380, 298, 224, 3) (380,)\n"
     ]
    }
   ],
   "source": [
    "print(\"Train:\", X_train.shape, Y_train.shape, \"Test:\", X_test.shape, Y_test.shape)"
   ]
  },
  {
   "cell_type": "code",
   "execution_count": 7,
   "metadata": {},
   "outputs": [
    {
     "name": "stdout",
     "output_type": "stream",
     "text": [
      "Model: \"sequential\"\n",
      "_________________________________________________________________\n",
      "Layer (type)                 Output Shape              Param #   \n",
      "=================================================================\n",
      "vgg19 (Model)                (None, 9, 7, 512)         20024384  \n",
      "_________________________________________________________________\n",
      "flatten (Flatten)            (None, 32256)             0         \n",
      "_________________________________________________________________\n",
      "dense (Dense)                (None, 200)               6451400   \n",
      "_________________________________________________________________\n",
      "dropout (Dropout)            (None, 200)               0         \n",
      "_________________________________________________________________\n",
      "dense_1 (Dense)              (None, 50)                10050     \n",
      "_________________________________________________________________\n",
      "dense_2 (Dense)              (None, 1)                 51        \n",
      "=================================================================\n",
      "Total params: 26,485,885\n",
      "Trainable params: 26,485,885\n",
      "Non-trainable params: 0\n",
      "_________________________________________________________________\n"
     ]
    }
   ],
   "source": [
    "cnn = prediction_module.initialize_cnn_for_regression()"
   ]
  },
  {
   "cell_type": "code",
   "execution_count": 8,
   "metadata": {},
   "outputs": [
    {
     "name": "stdout",
     "output_type": "stream",
     "text": [
      "Train on 886 samples, validate on 380 samples\n",
      "Epoch 1/15\n",
      "886/886 [==============================] - 17s 19ms/sample - loss: 0.4128 - mse: 5.5288 - mae: 0.4128 - mape: 75.3726 - val_loss: 0.1708 - val_mse: 0.0381 - val_mae: 0.1708 - val_mape: 28.9279\n",
      "Epoch 2/15\n",
      "886/886 [==============================] - 14s 16ms/sample - loss: 0.1148 - mse: 0.0208 - mae: 0.1148 - mape: 22.7686 - val_loss: 0.0886 - val_mse: 0.0126 - val_mae: 0.0886 - val_mape: 16.4427\n",
      "Epoch 3/15\n",
      "886/886 [==============================] - 15s 17ms/sample - loss: 0.1023 - mse: 0.0169 - mae: 0.1023 - mape: 20.4653 - val_loss: 0.0836 - val_mse: 0.0114 - val_mae: 0.0836 - val_mape: 17.1154\n",
      "Epoch 4/15\n",
      "886/886 [==============================] - 15s 17ms/sample - loss: 0.0908 - mse: 0.0133 - mae: 0.0908 - mape: 18.5911 - val_loss: 0.0829 - val_mse: 0.0112 - val_mae: 0.0829 - val_mape: 16.7588\n",
      "Epoch 5/15\n",
      "886/886 [==============================] - 15s 17ms/sample - loss: 0.0900 - mse: 0.0130 - mae: 0.0900 - mape: 18.5562 - val_loss: 0.0827 - val_mse: 0.0112 - val_mae: 0.0827 - val_mape: 16.5378\n",
      "Epoch 6/15\n",
      "886/886 [==============================] - 15s 17ms/sample - loss: 0.0899 - mse: 0.0130 - mae: 0.0899 - mape: 18.5047 - val_loss: 0.0833 - val_mse: 0.0113 - val_mae: 0.0833 - val_mape: 16.2277\n",
      "Epoch 7/15\n",
      "886/886 [==============================] - 15s 17ms/sample - loss: 0.0908 - mse: 0.0131 - mae: 0.0908 - mape: 18.7382 - val_loss: 0.0827 - val_mse: 0.0112 - val_mae: 0.0827 - val_mape: 16.4251\n",
      "Epoch 8/15\n",
      "886/886 [==============================] - 15s 17ms/sample - loss: 0.0895 - mse: 0.0130 - mae: 0.0895 - mape: 18.4394 - val_loss: 0.0834 - val_mse: 0.0114 - val_mae: 0.0834 - val_mape: 17.0198\n",
      "Epoch 9/15\n",
      "886/886 [==============================] - 15s 17ms/sample - loss: 0.0902 - mse: 0.0131 - mae: 0.0902 - mape: 18.4944 - val_loss: 0.0856 - val_mse: 0.0120 - val_mae: 0.0856 - val_mape: 17.8464\n",
      "Epoch 10/15\n",
      "886/886 [==============================] - 15s 17ms/sample - loss: 0.0899 - mse: 0.0131 - mae: 0.0899 - mape: 18.5273 - val_loss: 0.0834 - val_mse: 0.0114 - val_mae: 0.0834 - val_mape: 17.0412\n",
      "Epoch 11/15\n",
      "886/886 [==============================] - 15s 17ms/sample - loss: 0.0908 - mse: 0.0132 - mae: 0.0908 - mape: 18.7153 - val_loss: 0.0830 - val_mse: 0.0113 - val_mae: 0.0830 - val_mape: 16.8161\n",
      "Epoch 12/15\n",
      "886/886 [==============================] - 15s 17ms/sample - loss: 0.0899 - mse: 0.0131 - mae: 0.0899 - mape: 18.5848 - val_loss: 0.0827 - val_mse: 0.0112 - val_mae: 0.0827 - val_mape: 16.6268\n",
      "Epoch 13/15\n",
      "886/886 [==============================] - 15s 17ms/sample - loss: 0.0894 - mse: 0.0129 - mae: 0.0894 - mape: 18.4372 - val_loss: 0.0827 - val_mse: 0.0112 - val_mae: 0.0827 - val_mape: 16.4020\n",
      "Epoch 14/15\n",
      "886/886 [==============================] - 15s 17ms/sample - loss: 0.0895 - mse: 0.0130 - mae: 0.0895 - mape: 18.5823 - val_loss: 0.0828 - val_mse: 0.0112 - val_mae: 0.0828 - val_mape: 16.6664\n",
      "Epoch 15/15\n",
      "886/886 [==============================] - 15s 17ms/sample - loss: 0.0896 - mse: 0.0128 - mae: 0.0896 - mape: 18.4588 - val_loss: 0.0838 - val_mse: 0.0115 - val_mae: 0.0838 - val_mape: 17.1933\n"
     ]
    }
   ],
   "source": [
    "prediction_module.train_cnn_for_regression(cnn, X_train, Y_train, X_test, Y_test, epochs=15, batch_size=4, save=False, evaluate=False)"
   ]
  },
  {
   "cell_type": "code",
   "execution_count": null,
   "metadata": {},
   "outputs": [],
   "source": []
  }
 ],
 "metadata": {
  "kernelspec": {
   "display_name": "Python 3",
   "language": "python",
   "name": "python3"
  },
  "language_info": {
   "codemirror_mode": {
    "name": "ipython",
    "version": 3
   },
   "file_extension": ".py",
   "mimetype": "text/x-python",
   "name": "python",
   "nbconvert_exporter": "python",
   "pygments_lexer": "ipython3",
   "version": "3.7.3"
  }
 },
 "nbformat": 4,
 "nbformat_minor": 4
}
