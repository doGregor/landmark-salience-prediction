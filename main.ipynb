{
 "cells": [
  {
   "cell_type": "code",
   "execution_count": 1,
   "metadata": {},
   "outputs": [],
   "source": [
    "import os\n",
    "import tensorflow as tf\n",
    "import numpy as np\n",
    "from scipy import stats\n",
    "from image_data_module import TrainTestData\n",
    "from salience_prediction_module import SaliencePrediction"
   ]
  },
  {
   "cell_type": "code",
   "execution_count": 2,
   "metadata": {},
   "outputs": [],
   "source": [
    "##### REGRESSION TEST #####"
   ]
  },
  {
   "cell_type": "code",
   "execution_count": 3,
   "metadata": {},
   "outputs": [],
   "source": [
    "data_class = TrainTestData()\n",
    "(X_train, Y_train), (X_test, Y_test) = data_class.get_train_test_salience()"
   ]
  },
  {
   "cell_type": "code",
   "execution_count": 4,
   "metadata": {},
   "outputs": [
    {
     "name": "stdout",
     "output_type": "stream",
     "text": [
      "Train: (886, 298, 224, 3) (886,) Test: (380, 298, 224, 3) (380,)\n"
     ]
    }
   ],
   "source": [
    "print(\"Train:\", X_train.shape, Y_train.shape, \"Test:\", X_test.shape, Y_test.shape)"
   ]
  },
  {
   "cell_type": "code",
   "execution_count": 5,
   "metadata": {},
   "outputs": [],
   "source": [
    "prediction_module = SaliencePrediction()\n",
    "(X_train, Y_train), (X_test, Y_test) = prediction_module.scale_data(X_train, Y_train, X_test, Y_test, labels='regression')"
   ]
  },
  {
   "cell_type": "code",
   "execution_count": 6,
   "metadata": {},
   "outputs": [
    {
     "name": "stdout",
     "output_type": "stream",
     "text": [
      "Train: (886, 298, 224, 3) (886,) Test: (380, 298, 224, 3) (380,)\n"
     ]
    }
   ],
   "source": [
    "print(\"Train:\", X_train.shape, Y_train.shape, \"Test:\", X_test.shape, Y_test.shape)"
   ]
  },
  {
   "cell_type": "code",
   "execution_count": 7,
   "metadata": {},
   "outputs": [
    {
     "name": "stdout",
     "output_type": "stream",
     "text": [
      "Model: \"sequential\"\n",
      "_________________________________________________________________\n",
      "Layer (type)                 Output Shape              Param #   \n",
      "=================================================================\n",
      "vgg19 (Model)                (None, 9, 7, 512)         20024384  \n",
      "_________________________________________________________________\n",
      "flatten (Flatten)            (None, 32256)             0         \n",
      "_________________________________________________________________\n",
      "dropout (Dropout)            (None, 32256)             0         \n",
      "_________________________________________________________________\n",
      "dense (Dense)                (None, 200)               6451400   \n",
      "_________________________________________________________________\n",
      "dense_1 (Dense)              (None, 1)                 201       \n",
      "=================================================================\n",
      "Total params: 26,475,985\n",
      "Trainable params: 26,475,985\n",
      "Non-trainable params: 0\n",
      "_________________________________________________________________\n"
     ]
    }
   ],
   "source": [
    "cnn = prediction_module.initialize_cnn_for_regression()"
   ]
  },
  {
   "cell_type": "code",
   "execution_count": 8,
   "metadata": {},
   "outputs": [
    {
     "name": "stdout",
     "output_type": "stream",
     "text": [
      "Train on 886 samples, validate on 380 samples\n",
      "Epoch 1/15\n",
      "886/886 [==============================] - 16s 18ms/sample - loss: 8.8408 - mse: 8.8408 - mae: 0.4647 - mape: 86.3258 - val_loss: 0.1008 - val_mse: 0.1008 - val_mae: 0.2995 - val_mape: 51.9197\n",
      "Epoch 2/15\n",
      "886/886 [==============================] - 14s 15ms/sample - loss: 0.0239 - mse: 0.0239 - mae: 0.1231 - mape: 24.1233 - val_loss: 0.0334 - val_mse: 0.0334 - val_mae: 0.1569 - val_mape: 26.6771\n",
      "Epoch 3/15\n",
      "886/886 [==============================] - 14s 16ms/sample - loss: 0.0238 - mse: 0.0238 - mae: 0.1197 - mape: 23.5824 - val_loss: 0.0695 - val_mse: 0.0695 - val_mae: 0.2432 - val_mape: 41.7314\n",
      "Epoch 4/15\n",
      "886/886 [==============================] - 14s 16ms/sample - loss: 0.0197 - mse: 0.0197 - mae: 0.1109 - mape: 21.9934 - val_loss: 0.0696 - val_mse: 0.0696 - val_mae: 0.2434 - val_mape: 41.7523\n",
      "Epoch 5/15\n",
      "886/886 [==============================] - 15s 17ms/sample - loss: 0.0194 - mse: 0.0194 - mae: 0.1098 - mape: 21.8073 - val_loss: 0.0722 - val_mse: 0.0722 - val_mae: 0.2487 - val_mape: 42.7231\n",
      "Epoch 6/15\n",
      "886/886 [==============================] - 15s 17ms/sample - loss: 0.0209 - mse: 0.0209 - mae: 0.1140 - mape: 22.6781 - val_loss: 0.0481 - val_mse: 0.0481 - val_mae: 0.1965 - val_mape: 33.4236\n",
      "Epoch 7/15\n",
      "886/886 [==============================] - 15s 17ms/sample - loss: 0.8881 - mse: 0.8881 - mae: 0.2525 - mape: 48.0902 - val_loss: 0.0533 - val_mse: 0.0533 - val_mae: 0.2086 - val_mape: 35.5408\n",
      "Epoch 8/15\n",
      "886/886 [==============================] - 15s 17ms/sample - loss: 0.9362 - mse: 0.9362 - mae: 0.2722 - mape: 50.4548 - val_loss: 0.0184 - val_mse: 0.0184 - val_mae: 0.1104 - val_mape: 19.1771\n",
      "Epoch 9/15\n",
      "886/886 [==============================] - 15s 17ms/sample - loss: 0.0163 - mse: 0.0163 - mae: 0.1014 - mape: 20.2527 - val_loss: 0.0139 - val_mse: 0.0139 - val_mae: 0.0930 - val_mape: 19.8191\n",
      "Epoch 10/15\n",
      "886/886 [==============================] - 15s 16ms/sample - loss: 0.0148 - mse: 0.0148 - mae: 0.0973 - mape: 19.6439 - val_loss: 0.0145 - val_mse: 0.0145 - val_mae: 0.0964 - val_mape: 17.3196\n",
      "Epoch 11/15\n",
      "886/886 [==============================] - 15s 16ms/sample - loss: 0.0151 - mse: 0.0151 - mae: 0.0975 - mape: 19.6668 - val_loss: 0.0120 - val_mse: 0.0120 - val_mae: 0.0864 - val_mape: 16.2660\n",
      "Epoch 12/15\n",
      "886/886 [==============================] - 15s 16ms/sample - loss: 0.0149 - mse: 0.0149 - mae: 0.0963 - mape: 19.5500 - val_loss: 0.0115 - val_mse: 0.0115 - val_mae: 0.0841 - val_mape: 16.1629\n",
      "Epoch 13/15\n",
      "886/886 [==============================] - 15s 16ms/sample - loss: 0.0146 - mse: 0.0146 - mae: 0.0956 - mape: 19.4118 - val_loss: 0.0113 - val_mse: 0.0113 - val_mae: 0.0833 - val_mape: 16.1930\n",
      "Epoch 14/15\n",
      "886/886 [==============================] - 15s 16ms/sample - loss: 0.0146 - mse: 0.0146 - mae: 0.0955 - mape: 19.3946 - val_loss: 0.0115 - val_mse: 0.0115 - val_mae: 0.0842 - val_mape: 16.1749\n",
      "Epoch 15/15\n",
      "886/886 [==============================] - 15s 16ms/sample - loss: 0.0147 - mse: 0.0147 - mae: 0.0964 - mape: 19.5658 - val_loss: 0.0146 - val_mse: 0.0146 - val_mae: 0.0967 - val_mape: 17.3555\n"
     ]
    },
    {
     "data": {
      "text/plain": [
       "<Figure size 432x288 with 0 Axes>"
      ]
     },
     "metadata": {},
     "output_type": "display_data"
    }
   ],
   "source": [
    "prediction_module.train_cnn_for_regression(cnn, X_train, Y_train, X_test, Y_test, epochs=15, batch_size=4, save=True, evaluate=True)"
   ]
  },
  {
   "cell_type": "code",
   "execution_count": null,
   "metadata": {},
   "outputs": [],
   "source": []
  }
 ],
 "metadata": {
  "kernelspec": {
   "display_name": "Python 3",
   "language": "python",
   "name": "python3"
  },
  "language_info": {
   "codemirror_mode": {
    "name": "ipython",
    "version": 3
   },
   "file_extension": ".py",
   "mimetype": "text/x-python",
   "name": "python",
   "nbconvert_exporter": "python",
   "pygments_lexer": "ipython3",
   "version": "3.7.3"
  }
 },
 "nbformat": 4,
 "nbformat_minor": 4
}
