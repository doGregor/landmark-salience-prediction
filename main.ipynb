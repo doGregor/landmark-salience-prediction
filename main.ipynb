{
 "cells": [
  {
   "cell_type": "code",
   "execution_count": 1,
   "metadata": {},
   "outputs": [],
   "source": [
    "import os\n",
    "import tensorflow as tf\n",
    "import numpy as np\n",
    "from scipy import stats\n",
    "from image_data_module import TrainTestData\n",
    "from salience_prediction_module import SaliencePrediction"
   ]
  },
  {
   "cell_type": "code",
   "execution_count": 2,
   "metadata": {},
   "outputs": [],
   "source": [
    "##### REGRESSION TEST #####"
   ]
  },
  {
   "cell_type": "code",
   "execution_count": 3,
   "metadata": {},
   "outputs": [
    {
     "name": "stdout",
     "output_type": "stream",
     "text": [
      "Train: (886, 298, 224, 3) (886,) Test: (380, 298, 224, 3) (380,)\n",
      "Train: (886, 298, 224, 3) (886,) Test: (380, 298, 224, 3) (380,)\n"
     ]
    }
   ],
   "source": [
    "data_class = TrainTestData()\n",
    "(X_train, Y_train), (X_test, Y_test) = data_class.get_train_test_salience()\n",
    "print(\"Train:\", X_train.shape, Y_train.shape, \"Test:\", X_test.shape, Y_test.shape)\n",
    "\n",
    "prediction_module = SaliencePrediction()\n",
    "(X_train, Y_train), (X_test, Y_test) = prediction_module.scale_data(X_train, Y_train, X_test, Y_test, labels='regression')\n",
    "print(\"Train:\", X_train.shape, Y_train.shape, \"Test:\", X_test.shape, Y_test.shape)"
   ]
  },
  {
   "cell_type": "code",
   "execution_count": 4,
   "metadata": {},
   "outputs": [
    {
     "name": "stdout",
     "output_type": "stream",
     "text": [
      "Model: \"sequential\"\n",
      "_________________________________________________________________\n",
      "Layer (type)                 Output Shape              Param #   \n",
      "=================================================================\n",
      "vgg19 (Model)                (None, 9, 7, 512)         20024384  \n",
      "_________________________________________________________________\n",
      "flatten (Flatten)            (None, 32256)             0         \n",
      "_________________________________________________________________\n",
      "dense (Dense)                (None, 4096)              132124672 \n",
      "_________________________________________________________________\n",
      "dense_1 (Dense)              (None, 2048)              8390656   \n",
      "_________________________________________________________________\n",
      "dense_2 (Dense)              (None, 1)                 2049      \n",
      "=================================================================\n",
      "Total params: 160,541,761\n",
      "Trainable params: 160,541,761\n",
      "Non-trainable params: 0\n",
      "_________________________________________________________________\n"
     ]
    }
   ],
   "source": [
    "cnn = prediction_module.initialize_cnn_for_regression()"
   ]
  },
  {
   "cell_type": "code",
   "execution_count": 5,
   "metadata": {},
   "outputs": [
    {
     "name": "stdout",
     "output_type": "stream",
     "text": [
      "Train on 886 samples, validate on 380 samples\n",
      "Epoch 1/25\n",
      "886/886 [==============================] - 16s 19ms/sample - loss: 0.4637 - mse: 0.6659 - mae: 0.4637 - mape: 88.0220 - val_loss: 0.1788 - val_mse: 0.0422 - val_mae: 0.1788 - val_mape: 37.0853\n",
      "Epoch 2/25\n",
      "886/886 [==============================] - 13s 15ms/sample - loss: 0.1070 - mse: 0.0185 - mae: 0.1070 - mape: 21.3895 - val_loss: 0.1446 - val_mse: 0.0288 - val_mae: 0.1446 - val_mape: 30.4050\n",
      "Epoch 3/25\n",
      "886/886 [==============================] - 13s 15ms/sample - loss: 0.0952 - mse: 0.0148 - mae: 0.0952 - mape: 19.0804 - val_loss: 0.1266 - val_mse: 0.0233 - val_mae: 0.1266 - val_mape: 26.7223\n",
      "Epoch 4/25\n",
      "886/886 [==============================] - 14s 15ms/sample - loss: 0.0851 - mse: 0.0117 - mae: 0.0851 - mape: 17.0743 - val_loss: 0.1193 - val_mse: 0.0203 - val_mae: 0.1193 - val_mape: 20.7172\n",
      "Epoch 5/25\n",
      "886/886 [==============================] - 14s 16ms/sample - loss: 0.0765 - mse: 0.0100 - mae: 0.0765 - mape: 15.4846 - val_loss: 0.0814 - val_mse: 0.0107 - val_mae: 0.0814 - val_mape: 16.5880\n",
      "Epoch 6/25\n",
      "886/886 [==============================] - 14s 16ms/sample - loss: 0.0752 - mse: 0.0095 - mae: 0.0752 - mape: 15.1122 - val_loss: 0.0978 - val_mse: 0.0148 - val_mae: 0.0978 - val_mape: 17.2825\n",
      "Epoch 7/25\n",
      "886/886 [==============================] - 14s 16ms/sample - loss: 0.0712 - mse: 0.0082 - mae: 0.0712 - mape: 14.0311 - val_loss: 0.1012 - val_mse: 0.0152 - val_mae: 0.1012 - val_mape: 17.9224\n",
      "Epoch 8/25\n",
      "886/886 [==============================] - 14s 16ms/sample - loss: 0.0677 - mse: 0.0073 - mae: 0.0677 - mape: 13.2424 - val_loss: 0.0797 - val_mse: 0.0102 - val_mae: 0.0797 - val_mape: 16.1204\n",
      "Epoch 9/25\n",
      "886/886 [==============================] - 14s 16ms/sample - loss: 0.0629 - mse: 0.0067 - mae: 0.0629 - mape: 12.5034 - val_loss: 0.0778 - val_mse: 0.0095 - val_mae: 0.0778 - val_mape: 15.2678\n",
      "Epoch 10/25\n",
      "886/886 [==============================] - 14s 16ms/sample - loss: 0.0598 - mse: 0.0060 - mae: 0.0598 - mape: 12.0293 - val_loss: 0.0797 - val_mse: 0.0102 - val_mae: 0.0797 - val_mape: 14.8681\n",
      "Epoch 11/25\n",
      "886/886 [==============================] - 14s 16ms/sample - loss: 0.0537 - mse: 0.0049 - mae: 0.0537 - mape: 10.7277 - val_loss: 0.0784 - val_mse: 0.0098 - val_mae: 0.0784 - val_mape: 15.9507\n",
      "Epoch 12/25\n",
      "886/886 [==============================] - 14s 16ms/sample - loss: 0.0516 - mse: 0.0046 - mae: 0.0516 - mape: 10.3321 - val_loss: 0.0777 - val_mse: 0.0099 - val_mae: 0.0777 - val_mape: 14.5749\n",
      "Epoch 13/25\n",
      "886/886 [==============================] - 14s 16ms/sample - loss: 0.0516 - mse: 0.0047 - mae: 0.0516 - mape: 10.2042 - val_loss: 0.0799 - val_mse: 0.0103 - val_mae: 0.0799 - val_mape: 15.9256\n",
      "Epoch 14/25\n",
      "886/886 [==============================] - 14s 16ms/sample - loss: 0.0502 - mse: 0.0043 - mae: 0.0502 - mape: 10.0446 - val_loss: 0.0765 - val_mse: 0.0098 - val_mae: 0.0765 - val_mape: 14.7439\n",
      "Epoch 15/25\n",
      "886/886 [==============================] - 14s 16ms/sample - loss: 0.0475 - mse: 0.0037 - mae: 0.0475 - mape: 9.3920 - val_loss: 0.0872 - val_mse: 0.0117 - val_mae: 0.0872 - val_mape: 15.7923\n",
      "Epoch 16/25\n",
      "886/886 [==============================] - 14s 16ms/sample - loss: 0.0455 - mse: 0.0035 - mae: 0.0455 - mape: 8.9160 - val_loss: 0.0788 - val_mse: 0.0103 - val_mae: 0.0788 - val_mape: 14.5019\n",
      "Epoch 17/25\n",
      "886/886 [==============================] - 14s 16ms/sample - loss: 0.0461 - mse: 0.0036 - mae: 0.0461 - mape: 8.9976 - val_loss: 0.1136 - val_mse: 0.0189 - val_mae: 0.1136 - val_mape: 23.4792\n",
      "Epoch 18/25\n",
      "886/886 [==============================] - 14s 16ms/sample - loss: 0.0414 - mse: 0.0031 - mae: 0.0414 - mape: 8.1563 - val_loss: 0.0748 - val_mse: 0.0092 - val_mae: 0.0748 - val_mape: 15.0110\n",
      "Epoch 19/25\n",
      "886/886 [==============================] - 14s 16ms/sample - loss: 0.0391 - mse: 0.0026 - mae: 0.0391 - mape: 7.6669 - val_loss: 0.0793 - val_mse: 0.0102 - val_mae: 0.0793 - val_mape: 15.9558\n",
      "Epoch 20/25\n",
      "886/886 [==============================] - 14s 16ms/sample - loss: 0.0389 - mse: 0.0026 - mae: 0.0389 - mape: 7.6228 - val_loss: 0.0775 - val_mse: 0.0101 - val_mae: 0.0775 - val_mape: 14.3985\n",
      "Epoch 21/25\n",
      "886/886 [==============================] - 14s 16ms/sample - loss: 0.0389 - mse: 0.0025 - mae: 0.0389 - mape: 7.5858 - val_loss: 0.0766 - val_mse: 0.0099 - val_mae: 0.0766 - val_mape: 14.4078\n",
      "Epoch 22/25\n",
      "886/886 [==============================] - 14s 16ms/sample - loss: 0.0360 - mse: 0.0022 - mae: 0.0360 - mape: 7.0596 - val_loss: 0.0802 - val_mse: 0.0111 - val_mae: 0.0802 - val_mape: 14.5058\n",
      "Epoch 23/25\n",
      "886/886 [==============================] - 14s 16ms/sample - loss: 0.0363 - mse: 0.0023 - mae: 0.0363 - mape: 7.0687 - val_loss: 0.0821 - val_mse: 0.0111 - val_mae: 0.0821 - val_mape: 14.8547\n",
      "Epoch 24/25\n",
      "886/886 [==============================] - 14s 16ms/sample - loss: 0.0332 - mse: 0.0019 - mae: 0.0332 - mape: 6.4046 - val_loss: 0.0728 - val_mse: 0.0090 - val_mae: 0.0728 - val_mape: 13.8499\n",
      "Epoch 25/25\n",
      "886/886 [==============================] - 14s 16ms/sample - loss: 0.0356 - mse: 0.0020 - mae: 0.0356 - mape: 6.8904 - val_loss: 0.0725 - val_mse: 0.0088 - val_mae: 0.0725 - val_mape: 14.2137\n"
     ]
    },
    {
     "data": {
      "text/plain": [
       "<Figure size 432x288 with 0 Axes>"
      ]
     },
     "metadata": {},
     "output_type": "display_data"
    }
   ],
   "source": [
    "prediction_module.train_cnn_for_regression(cnn, X_train, Y_train, X_test, Y_test, epochs=25, batch_size=8, save=True, evaluate=True)"
   ]
  },
  {
   "cell_type": "code",
   "execution_count": 2,
   "metadata": {},
   "outputs": [],
   "source": [
    "##### CLASSIFICATION TEST #####"
   ]
  },
  {
   "cell_type": "code",
   "execution_count": 3,
   "metadata": {},
   "outputs": [
    {
     "name": "stdout",
     "output_type": "stream",
     "text": [
      "Train: (886, 298, 224, 3) (886,) Test: (380, 298, 224, 3) (380,)\n",
      "{0: 1.678030303030303, 1: 0.7122186495176849}\n",
      "Train: (886, 298, 224, 3) (886,) Test: (380, 298, 224, 3) (380,)\n"
     ]
    }
   ],
   "source": [
    "data_class = TrainTestData()\n",
    "(X_train, Y_train), (X_test, Y_test) = data_class.get_train_test_binary(gray=False)\n",
    "print(\"Train:\", X_train.shape, Y_train.shape, \"Test:\", X_test.shape, Y_test.shape)\n",
    "\n",
    "prediction_module = SaliencePrediction()\n",
    "class_weights = prediction_module.create_class_weight(Y_train)\n",
    "print(class_weights)\n",
    "\n",
    "(X_train, Y_train), (X_test, Y_test) = prediction_module.scale_data(X_train, Y_train, X_test, Y_test, labels='classification')\n",
    "print(\"Train:\", X_train.shape, Y_train.shape, \"Test:\", X_test.shape, Y_test.shape)"
   ]
  },
  {
   "cell_type": "code",
   "execution_count": 4,
   "metadata": {},
   "outputs": [
    {
     "name": "stdout",
     "output_type": "stream",
     "text": [
      "Model: \"sequential\"\n",
      "_________________________________________________________________\n",
      "Layer (type)                 Output Shape              Param #   \n",
      "=================================================================\n",
      "vgg19 (Model)                (None, 9, 7, 512)         20024384  \n",
      "_________________________________________________________________\n",
      "flatten (Flatten)            (None, 32256)             0         \n",
      "_________________________________________________________________\n",
      "dense (Dense)                (None, 4096)              132124672 \n",
      "_________________________________________________________________\n",
      "dense_1 (Dense)              (None, 2048)              8390656   \n",
      "_________________________________________________________________\n",
      "dense_2 (Dense)              (None, 1)                 2049      \n",
      "=================================================================\n",
      "Total params: 160,541,761\n",
      "Trainable params: 160,541,761\n",
      "Non-trainable params: 0\n",
      "_________________________________________________________________\n"
     ]
    }
   ],
   "source": [
    "cnn = prediction_module.initialize_cnn_for_classification()"
   ]
  },
  {
   "cell_type": "code",
   "execution_count": 5,
   "metadata": {},
   "outputs": [
    {
     "name": "stdout",
     "output_type": "stream",
     "text": [
      "WARNING:tensorflow:sample_weight modes were coerced from\n",
      "  ...\n",
      "    to  \n",
      "  ['...']\n",
      "WARNING:tensorflow:sample_weight modes were coerced from\n",
      "  ...\n",
      "    to  \n",
      "  ['...']\n",
      "Train on 886 samples, validate on 380 samples\n",
      "Epoch 1/15\n",
      "886/886 [==============================] - 17s 20ms/sample - loss: 0.7204 - accuracy: 0.5801 - val_loss: 0.6955 - val_accuracy: 0.3842\n",
      "Epoch 2/15\n",
      "886/886 [==============================] - 15s 17ms/sample - loss: 0.5609 - accuracy: 0.7020 - val_loss: 0.8272 - val_accuracy: 0.3763\n",
      "Epoch 3/15\n",
      "886/886 [==============================] - 15s 17ms/sample - loss: 0.4311 - accuracy: 0.7923 - val_loss: 0.6532 - val_accuracy: 0.5763\n",
      "Epoch 4/15\n",
      "886/886 [==============================] - 15s 17ms/sample - loss: 0.3196 - accuracy: 0.8646 - val_loss: 0.6833 - val_accuracy: 0.7368\n",
      "Epoch 5/15\n",
      "886/886 [==============================] - 16s 18ms/sample - loss: 0.2034 - accuracy: 0.9233 - val_loss: 0.5187 - val_accuracy: 0.7816\n",
      "Epoch 6/15\n",
      "886/886 [==============================] - 16s 18ms/sample - loss: 0.1093 - accuracy: 0.9582 - val_loss: 0.7348 - val_accuracy: 0.7658\n",
      "Epoch 7/15\n",
      "886/886 [==============================] - 16s 18ms/sample - loss: 0.0823 - accuracy: 0.9763 - val_loss: 0.6446 - val_accuracy: 0.7289\n",
      "Epoch 8/15\n",
      "886/886 [==============================] - 16s 18ms/sample - loss: 0.0976 - accuracy: 0.9752 - val_loss: 0.6616 - val_accuracy: 0.7789\n",
      "Epoch 9/15\n",
      "886/886 [==============================] - 16s 19ms/sample - loss: 0.0417 - accuracy: 0.9921 - val_loss: 1.1773 - val_accuracy: 0.7842\n",
      "Epoch 10/15\n",
      "886/886 [==============================] - 16s 19ms/sample - loss: 0.0397 - accuracy: 0.9910 - val_loss: 0.7784 - val_accuracy: 0.7895\n",
      "Epoch 11/15\n",
      "886/886 [==============================] - 16s 19ms/sample - loss: 0.0416 - accuracy: 0.9887 - val_loss: 0.5506 - val_accuracy: 0.8053\n",
      "Epoch 12/15\n",
      "886/886 [==============================] - 16s 18ms/sample - loss: 0.0232 - accuracy: 0.9955 - val_loss: 0.9804 - val_accuracy: 0.7947\n",
      "Epoch 13/15\n",
      "886/886 [==============================] - 16s 18ms/sample - loss: 0.0036 - accuracy: 0.9989 - val_loss: 0.8327 - val_accuracy: 0.7921\n",
      "Epoch 14/15\n",
      "886/886 [==============================] - 16s 18ms/sample - loss: 0.0014 - accuracy: 1.0000 - val_loss: 0.8320 - val_accuracy: 0.8000\n",
      "Epoch 15/15\n",
      "886/886 [==============================] - 16s 18ms/sample - loss: 0.0863 - accuracy: 0.9752 - val_loss: 0.7113 - val_accuracy: 0.7974\n"
     ]
    },
    {
     "data": {
      "text/plain": [
       "<Figure size 432x288 with 0 Axes>"
      ]
     },
     "metadata": {},
     "output_type": "display_data"
    }
   ],
   "source": [
    "prediction_module.train_cnn_for_classification(cnn, X_train, Y_train, X_test, Y_test, epochs=15, batch_size=4, class_weights=class_weights, evaluate=True, save=False)"
   ]
  },
  {
   "cell_type": "code",
   "execution_count": 7,
   "metadata": {},
   "outputs": [
    {
     "name": "stdout",
     "output_type": "stream",
     "text": [
      "Train: (886, 298, 224, 3) (886,) Test: (380, 298, 224, 3) (380,)\n",
      "0.612 [0.51236343]\n",
      "0.606 [0.5906261]\n",
      "0.404 [0.48226282]\n",
      "0.6559999999999999 [0.4882704]\n",
      "0.604 [0.61071384]\n",
      "0.5599999999999999 [0.5439016]\n",
      "0.5519999999999999 [0.59326404]\n",
      "0.48 [0.53003466]\n",
      "0.548 [0.5623334]\n",
      "0.5559999999999999 [0.58649135]\n",
      "0.488 [0.62448895]\n",
      "0.49800000000000005 [0.5626569]\n",
      "0.5599999999999999 [0.64335024]\n",
      "0.62 [0.6645158]\n",
      "0.46399999999999997 [0.57420665]\n",
      "0.5980000000000001 [0.5899074]\n",
      "0.476 [0.54685915]\n",
      "0.674 [0.6583239]\n",
      "0.58 [0.5290993]\n",
      "0.696 [0.61644065]\n",
      "0.536 [0.54306644]\n",
      "0.418 [0.50783265]\n",
      "0.536 [0.5877152]\n",
      "0.6759999999999999 [0.5139087]\n",
      "0.316 [0.4265314]\n",
      "0.52 [0.3831548]\n",
      "0.52 [0.5238832]\n",
      "0.636 [0.6870631]\n",
      "0.502 [0.6026257]\n",
      "0.564 [0.5232382]\n",
      "0.52 [0.637885]\n",
      "0.588 [0.55900294]\n",
      "0.47400000000000003 [0.5018978]\n",
      "0.454 [0.5371686]\n",
      "0.6 [0.62970215]\n",
      "0.5740000000000001 [0.6130515]\n",
      "0.626 [0.5072937]\n",
      "0.632 [0.6520269]\n",
      "0.534 [0.5314401]\n",
      "0.77 [0.64620906]\n",
      "0.442 [0.5910851]\n",
      "0.626 [0.5276472]\n",
      "0.6940000000000001 [0.57915485]\n",
      "0.544 [0.49039418]\n",
      "0.534 [0.51306254]\n",
      "0.48200000000000004 [0.49651545]\n",
      "0.534 [0.56886625]\n",
      "0.576 [0.60461533]\n",
      "0.6759999999999999 [0.7492824]\n",
      "0.396 [0.526464]\n"
     ]
    }
   ],
   "source": [
    "'''\n",
    "res = cnn.predict(X_test)\n",
    "for idx, val in enumerate(res):\n",
    "    print(Y_test[idx], int(round(val[0])))\n",
    "'''\n",
    "data_class = TrainTestData()\n",
    "(X_train, Y_train), (X_test, Y_test) = data_class.get_train_test_salience()\n",
    "print(\"Train:\", X_train.shape, Y_train.shape, \"Test:\", X_test.shape, Y_test.shape)\n",
    "\n",
    "prediction_module = SaliencePrediction()\n",
    "(X_train, Y_train), (X_test, Y_test) = prediction_module.scale_data(X_train, Y_train, X_test, Y_test, labels='regression')\n",
    "\n",
    "res = prediction_module.predict(\"regression\", X_test)\n",
    "for idx in range(50):\n",
    "    print(Y_test[idx], res[idx])"
   ]
  },
  {
   "cell_type": "code",
   "execution_count": null,
   "metadata": {},
   "outputs": [],
   "source": []
  }
 ],
 "metadata": {
  "kernelspec": {
   "display_name": "Python 3",
   "language": "python",
   "name": "python3"
  },
  "language_info": {
   "codemirror_mode": {
    "name": "ipython",
    "version": 3
   },
   "file_extension": ".py",
   "mimetype": "text/x-python",
   "name": "python",
   "nbconvert_exporter": "python",
   "pygments_lexer": "ipython3",
   "version": "3.7.3"
  }
 },
 "nbformat": 4,
 "nbformat_minor": 4
}
